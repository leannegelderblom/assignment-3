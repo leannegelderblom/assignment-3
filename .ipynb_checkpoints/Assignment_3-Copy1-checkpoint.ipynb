{
 "cells": [
  {
   "cell_type": "markdown",
   "metadata": {},
   "source": [
    "# Adjusting the generosity of unemployment benefits over the business cycle"
   ]
  },
  {
   "cell_type": "markdown",
   "metadata": {},
   "source": [
    "* Janneke Horenga (541639) - [jannekehorenga](http://jannekehorenga.github.io/)\n",
    "* Bart de Geus (561375) - [bartdegeus](http://bartdegeus.github.io/)"
   ]
  },
  {
   "cell_type": "markdown",
   "metadata": {},
   "source": [
    "Methods: Numerical Simulation, Assignment 3, April 14th, 2016"
   ]
  },
  {
   "cell_type": "markdown",
   "metadata": {},
   "source": [
    "### Research question"
   ]
  },
  {
   "cell_type": "markdown",
   "metadata": {},
   "source": [
    "What would be the effect on search intensity, the value of unemployment, unemployment duration and the job finding rate of increasing the replacement rate of unemployment benefits during a recession?"
   ]
  },
  {
   "cell_type": "markdown",
   "metadata": {},
   "source": [
    "### Motivation"
   ]
  },
  {
   "cell_type": "markdown",
   "metadata": {},
   "source": [
    "During the Great Recession many European economies saw steep increases in the  unemployment rate (see this [Table from OECD data](https://data.oecd.org/chart/4v74)). With job finding rates low and more long-term unemployment, governments might expand the generosity of unemployment insurance benefits to ease economic pain for the unemployed and reduce the shortfall in aggregate demand [(Moffit 2014, p.5)](http://wol.iza.org/articles/unemployment-benefits-and-unemployment.pdf/). One way is to lengthen the duration of the benefit period, the effects of which have already been surveyed by [Tatsiramos and Van Ours (2012)](http://onlinelibrary.wiley.com/doi/10.1111/joes.12005/abstract). A second option for governments is to increase the benefit level during a recession, which may be more effective in keeping up aggregate demand in the short-term. Benefit levels are commonly measured by the net income replacement rate, the ratio of benefits to the recepients earnings on the terminated job [(Moffit 2014, p.3)](http://wol.iza.org/articles/unemployment-benefits-and-unemployment.pdf/).\n",
    "\n",
    "But any adjustment to the generosity of benefits must balance the improvement in welfare with expected side-effects, the most important of which is moral hazard among job-seekers. An increase in the replacement rate reduces the gains from taking a job during the benefit period and benefit recepients might lower their search effort in response. This could slow down a recovery [(Moffit 2014, p.6)](http://wol.iza.org/articles/unemployment-benefits-and-unemployment.pdf/). We therefore ask what would be the effect of an increase in the replacement rate on the following labor market outcomes and welfare measures: search intensity, the value of unemployment, unemployment duration and the job finding rate.\n"
   ]
  },
  {
   "cell_type": "markdown",
   "metadata": {},
   "source": [
    "### Answer"
   ]
  },
  {
   "cell_type": "code",
   "execution_count": 1,
   "metadata": {
    "collapsed": false
   },
   "outputs": [
    {
     "name": "stdout",
     "output_type": "stream",
     "text": [
      "Object `` not found.\n"
     ]
    }
   ],
   "source": [
    "??"
   ]
  },
  {
   "cell_type": "markdown",
   "metadata": {},
   "source": [
    "### Method"
   ]
  },
  {
   "cell_type": "markdown",
   "metadata": {},
   "source": [
    "We use a two-sided search-matching model of a dynamic labor market from [Boeri and Van Ours (2013, sec 11.9)](http://press.princeton.edu/titles/10142.html), which is a simplified version of the model used by [Boone and Van Ours (2006)](http://www.ingentaconnect.com/content/mohr/jite/2006/00000162/00000002/art00001/), to simulate the overall effects of a change in the replacement rate. Our model is limited in the sense that unemployement is caused by search frictions rather than demand. Moreover, because the model does not include a feedback loop from changes in the replacement rate to prodcut market demand, our work here is limited to an analysis of partial equilibrium.\n",
    "\n",
    "To simulate a recession we adjust the productivity parameter based on data from the Netherlands during the Great Recession. We calculate the relative change in GDP per unit worked and compare labor market outcomes under both states of the business cycle. To answer our research question we increase the replacement rate of unemployment insurance benefits from $b=0.7$ to $b=0.8$ and compare steady-state labor market outcomes for the two different levels of the replacement rate.\n",
    "\n",
    "We conduct a sensitivity analysis to determine the robustness of our results to changes in __[variables]__."
   ]
  },
  {
   "cell_type": "markdown",
   "metadata": {},
   "source": [
    "### Data"
   ]
  },
  {
   "cell_type": "markdown",
   "metadata": {},
   "source": [
    "We adjust several parameters to simulate a change in business cycle conditions. We adjust on the basis of observed reductions in a proxy for productivity, GDP per hour worked (index measure) from [OECD.Stat](http://stats.oecd.org/viewhtml.aspx?datasetcode=PDB_GR&lang=en#).\n",
    "\n",
    "Many parameter values are taken from others. \n"
   ]
  },
  {
   "cell_type": "markdown",
   "metadata": {
    "collapsed": true
   },
   "source": [
    "### Main assumptions"
   ]
  },
  {
   "cell_type": "markdown",
   "metadata": {},
   "source": [
    "We have made a number of assumptions.\n",
    "* A labor market as modeled in [Boeri and Van Ours (2013, sec 11.9)](http://press.princeton.edu/titles/10142.html)\n",
    "\n",
    "Some assumptions are implicit in the model:\n",
    "* Labor is homogenous and all employed workers receive the same wage;\n",
    "* Wages are flexible: unemployment arises because of search frictions;\n",
    "* Workers and firms are risk-neutral;\n",
    "* A linear felicity function of wages;\n",
    "* Workers can adjust their search effort to influence the probability of finding a job;\n",
    "* Unemployment insurance benefits are one-dimenional: there is a constant replacement rate and benefits last forever;\n",
    "* Labor supply is exogenous and the total labor force is set to $1$ (cf Boone and Van Ours (2006))\n",
    "* Entry for firms is free: the value of creating a vacancy ($J_{\\upsilon}$) is $0$"
   ]
  },
  {
   "cell_type": "markdown",
   "metadata": {},
   "source": [
    "## Model<a id='model'></a>"
   ]
  },
  {
   "cell_type": "markdown",
   "metadata": {},
   "source": [
    "### Model parameters"
   ]
  },
  {
   "cell_type": "markdown",
   "metadata": {},
   "source": [
    "#### Exogenous parameters <a id='exo'></a>"
   ]
  },
  {
   "cell_type": "markdown",
   "metadata": {},
   "source": [
    "|  Symbol  \t| Definition       \t|   \t|     Symbol     \t| Definition                  \t|\n",
    "|:--------:\t|------------------\t|---\t|:--------------:\t|-----------------------------\t|\n",
    "|    $b$   \t| replacement rate \t|   \t|     $\\beta$    \t| bargaining power of workers \t|\n",
    "|  $\\rho$  \t| discount rate    \t|   \t|       $y$      \t| productivity level          \t|\n",
    "| $\\kappa$ \t| search cost function parameter |   \t| $c_{\\upsilon}$ \t| cost of opening a vacancy\t|\n",
    "|  $\\eta$  \t| matching function parameter \t|   \t|    $\\delta$    \t| job destruction rate |\n",
    "|    $A$   \t| matching function parameter \t|   \t| \t|  |"
   ]
  },
  {
   "cell_type": "markdown",
   "metadata": {},
   "source": [
    "#### Endogenous parameters <a id='endo'></a>"
   ]
  },
  {
   "cell_type": "markdown",
   "metadata": {
    "collapsed": true
   },
   "source": [
    "|     Symbol     | Definiton                   |   |     Symbol    | Definition              |\n",
    "|:--------------:|-----------------------------|---|:-------------:|-------------------------|\n",
    "|    $\\gamma$    | disutility of job-search    |   |      $u$      | unemployed (share of labor force)    |\n",
    "|       $s$      | job-search effort by worker |   |      $e$      | employed (share of labor force)      |\n",
    "|      $V_u$     | value of unemployment       |   |      $m$      | period job matches      |\n",
    "|      $V_e$     | value of employment         |   |    $\\theta$   | labor market tightness  |\n",
    "|       $w$      | period wage                 |   |     $\\mu$     | job finding probability |\n",
    "|      $J_e$     | value of a job              |   |      $t$      | tax rate                |\n",
    "| $J_{\\upsilon}$ | value of a vacancy          |   |      $W$      | total welfare           |\n",
    "|   $\\upsilon$   | number of vacancies         |   |        |     |"
   ]
  },
  {
   "cell_type": "markdown",
   "metadata": {},
   "source": [
    "### Model equations"
   ]
  },
  {
   "cell_type": "markdown",
   "metadata": {},
   "source": [
    "A simplified model form [Boeri and Van Ours (2013, sec 11.9)](http://press.princeton.edu/titles/10142.html)"
   ]
  },
  {
   "cell_type": "markdown",
   "metadata": {},
   "source": [
    "#### Optimal job search intensity "
   ]
  },
  {
   "cell_type": "markdown",
   "metadata": {},
   "source": [
    "disutility of searching $$\\gamma\\left(s\\right)=\\frac{1-\\left(1-s\\right)^{1-\\kappa}}{1-\\kappa}-s$$\n",
    "\n",
    "with $ \\gamma(0)=0$ ; $ \\gamma'(0)=0$; $ \\gamma'(s)>0$ ; $ \\gamma''(s)>0$ ; $ \\lim_{s\\to 1} \\gamma'(s)=+\\infty $"
   ]
  },
  {
   "cell_type": "markdown",
   "metadata": {},
   "source": [
    "flow value of being unemployed $$ \\rho V_u = \\underset{0 \\le s \\le 1}{max}\\{b-\\gamma(s) + \\mu s (V_e - V_u) \\} $$"
   ]
  },
  {
   "cell_type": "markdown",
   "metadata": {},
   "source": [
    "flow value of being employed\n",
    "\n",
    "$$ \\rho V_e = w + \\delta \\left(V_u - V_e \\right) $$"
   ]
  },
  {
   "cell_type": "markdown",
   "metadata": {},
   "source": [
    "#### Vacancies and the matching function"
   ]
  },
  {
   "cell_type": "markdown",
   "metadata": {},
   "source": [
    "flow of matches\n",
    "\n",
    "$$ m\\left(s u,\\upsilon\\right) = A \\left(su\\right)^{1-\\eta} \\upsilon^{\\eta} $$"
   ]
  },
  {
   "cell_type": "markdown",
   "metadata": {},
   "source": [
    "search parameter for unemployed workers\n",
    "$$ \\mu = \\frac{m \\left(su, \\upsilon \\right)}{su} = A\\theta^{\\eta} $$\n",
    "\n",
    "with $\\theta=\\frac{\\upsilon}{su}$"
   ]
  },
  {
   "cell_type": "markdown",
   "metadata": {},
   "source": [
    "flow value of a job $$ \\rho J_e = y - (1+t)w + \\delta ( J_{\\upsilon} - J_e) $$"
   ]
  },
  {
   "cell_type": "markdown",
   "metadata": {},
   "source": [
    "flow value of a vacancy\n",
    "\n",
    "$$ \\rho J_{\\upsilon} = -c_{\\upsilon}+\\frac{\\mu}{\\theta}(J_e - J_{\\upsilon}) $$"
   ]
  },
  {
   "cell_type": "markdown",
   "metadata": {},
   "source": [
    "#### Wage bargaining"
   ]
  },
  {
   "cell_type": "markdown",
   "metadata": {},
   "source": [
    "$$ \\underset{w}{max}\\{(V_e - V_u)^{\\beta}(J_e - J_{\\upsilon})^{1-\\beta}\\} $$\n",
    "\n",
    "which gives $$ w = (1 - \\beta) \\rho V_u + \\beta \\frac{y}{1+t} $$"
   ]
  },
  {
   "cell_type": "markdown",
   "metadata": {},
   "source": [
    "#### Labor market participation"
   ]
  },
  {
   "cell_type": "markdown",
   "metadata": {},
   "source": [
    "labor market equilibrium condition $$ \\mu s u = \\delta e $$"
   ]
  },
  {
   "cell_type": "markdown",
   "metadata": {},
   "source": [
    "labor force participation rate $$ e + u = 1 $$"
   ]
  },
  {
   "cell_type": "markdown",
   "metadata": {},
   "source": [
    "#### Balanced budget requirement"
   ]
  },
  {
   "cell_type": "markdown",
   "metadata": {},
   "source": [
    "$$ etw = ub^w $$"
   ]
  },
  {
   "cell_type": "markdown",
   "metadata": {},
   "source": [
    "#### Total welfare\n",
    "\n",
    "We add total welfare from [Boone and Van Ours (2006)](http://www.ingentaconnect.com/content/mohr/jite/2006/00000162/00000002/art00001/)."
   ]
  },
  {
   "cell_type": "markdown",
   "metadata": {},
   "source": [
    "$$ W = uV_u + e(V_e+J_e)+\\upsilon J_{\\upsilon} $$"
   ]
  },
  {
   "cell_type": "markdown",
   "metadata": {},
   "source": [
    "## Execution"
   ]
  },
  {
   "cell_type": "markdown",
   "metadata": {},
   "source": [
    "### Importing libraries and packages"
   ]
  },
  {
   "cell_type": "code",
   "execution_count": 1,
   "metadata": {
    "collapsed": false
   },
   "outputs": [
    {
     "name": "stderr",
     "output_type": "stream",
     "text": [
      "//anaconda/lib/python2.7/site-packages/matplotlib/font_manager.py:273: UserWarning: Matplotlib is building the font cache using fc-list. This may take a moment.\n",
      "  warnings.warn('Matplotlib is building the font cache using fc-list. This may take a moment.')\n"
     ]
    }
   ],
   "source": [
    "import math \n",
    "from scipy import arange, optimize\n",
    "import matplotlib.pyplot as plt\n",
    "%matplotlib inline"
   ]
  },
  {
   "cell_type": "markdown",
   "metadata": {},
   "source": [
    "#### Baseline ####\n",
    "\n",
    "We start with a baseline scenario in which the economy is not in a recession. For this we can normalize the productivity parameter, $y=1$."
   ]
  },
  {
   "cell_type": "markdown",
   "metadata": {},
   "source": [
    "## jb\n",
    "\n",
    "I've added `t` with a value and specified numbers as digitals (e.g. 1.0 instead of 1; problem is that 1/2 equals 0 in python while 1.0/2 = 0.5)"
   ]
  },
  {
   "cell_type": "code",
   "execution_count": 19,
   "metadata": {
    "collapsed": false
   },
   "outputs": [],
   "source": [
    "# Exogenous parameters from Boone and Van Ours (2006)\n",
    "\n",
    "b = 0.7            # replacement rate\n",
    "rho = 0.10         # discount rate (annual)\n",
    "kappa = 0.5        # search cost function parameter\n",
    "eta = 0.5          # matching function parameter\n",
    "A = 1.0              # efficiency of matching function\n",
    "beta = 0.5         # bargaining power of workers\n",
    "y = 1.0              # productivity level\n",
    "c_ups = 2.0          # cost of opening a vacancy\n",
    "delta = 0.16       # job destruction rate (annual)\n",
    "\n",
    "t = 0.0\n",
    "\n",
    "# we further assume assume\n",
    "\n",
    "def e(u):\n",
    "    return 1 - u          # labor force normalized to 1: emploment and unemployment shares\n",
    "\n",
    "#def u(e):\n",
    "#    return 1- e\n",
    "\n",
    "J_ups = 0          # Value of vacancy bid down to 0 (cf. Boone and Van Ours (2006))"
   ]
  },
  {
   "cell_type": "markdown",
   "metadata": {},
   "source": [
    "We define those endogenous variables required to solve the model and those of interest for our comparison of steady states."
   ]
  },
  {
   "cell_type": "code",
   "execution_count": 20,
   "metadata": {
    "collapsed": false
   },
   "outputs": [],
   "source": [
    "# disutility from job search\n",
    "def gamma(s):\n",
    "    return ((1-(1-s)**(1-kappa)))/((1-kappa) -s)\n",
    "            \n",
    "#def m(s,u,v,A,eta):\n",
    "#    return A*((s*u)**(1-eta))*(v**eta)\n",
    "            \n",
    "#def mu(m,s,u):\n",
    "#    return (m/(s*u))\n",
    "            \n",
    "#def Je(y,t,delta,Jv,rho):\n",
    "#    return (y-((1-t)*t) + (delta*Jv))/(rho + (rho*delta))\n",
    "                   \n",
    "#def e(mu,s,u,delta):\n",
    "#    return (mu*s*u)/(delta)\n",
    "            \n",
    "#def G(e,u,N):\n",
    "#    return (e+u)/N\n",
    "\n",
    "#def w(beta,rho,Vu,y,t):\n",
    "#    return((1-beta)*rho*Vu) + (beta*(y/(1+t)))"
   ]
  },
  {
   "cell_type": "markdown",
   "metadata": {},
   "source": [
    "## jb\n",
    "\n",
    "python's problem is the mismatch between function f(x,y) with x and y scalars and x0 which is a vector.\n",
    "\n",
    "you need to look for sensible starting values x0 to get the algorithm going"
   ]
  },
  {
   "cell_type": "code",
   "execution_count": 29,
   "metadata": {
    "collapsed": false
   },
   "outputs": [
    {
     "name": "stderr",
     "output_type": "stream",
     "text": [
      "/anaconda/lib/python2.7/site-packages/ipykernel/__main__.py:11: RuntimeWarning: invalid value encountered in double_scalars\n",
      "/anaconda/lib/python2.7/site-packages/ipykernel/__main__.py:13: RuntimeWarning: invalid value encountered in double_scalars\n",
      "//anaconda/lib/python2.7/site-packages/scipy/optimize/minpack.py:161: RuntimeWarning: The iteration is not making good progress, as measured by the \n",
      "  improvement from the last ten iterations.\n",
      "  warnings.warn(msg, RuntimeWarning)\n"
     ]
    },
    {
     "data": {
      "text/plain": [
       "array([ 500. ,    0.5])"
      ]
     },
     "execution_count": 29,
     "metadata": {},
     "output_type": "execute_result"
    }
   ],
   "source": [
    "# Find fixed points for model in V_u and theta\n",
    "\n",
    "def fixed_point(x):\n",
    "    v_u = x[0]\n",
    "    theta = x[1]\n",
    "    w = (1-beta)*rho*v_u + beta * (y/(1+t))\n",
    "    J_e = (y-(1+t)*w)/(rho+delta)\n",
    "    # find optimal s for given values of theta and v_u\n",
    "    def V_u(v_u,theta):   \n",
    "        def a(s): \n",
    "            return -(b*w - gamma(s) + A*(theta**eta)*s*(w/(rho+delta) - rho/(rho+delta)*v_u))\n",
    "        s_max = optimize.fminbound(lambda s: a(s),0,1,disp=1)\n",
    "        output = b*w - gamma(s_max) + A*(theta**eta)*s_max*(w/(rho+delta) - rho/(rho+delta)*v_u)\n",
    "        return 1.0/rho * output\n",
    "    Theta = ((A*J_e)/(c_ups))**(1/(1-eta))\n",
    "    return [v_u-V_u(v_u,theta), theta-Theta]\n",
    "\n",
    "x0 = [500.0, 0.5]\n",
    "optimize.fsolve(fixed_point, [500.0, 0.5])\n"
   ]
  },
  {
   "cell_type": "markdown",
   "metadata": {},
   "source": [
    "The [exogenous parameters](#exo)"
   ]
  },
  {
   "cell_type": "markdown",
   "metadata": {
    "collapsed": true
   },
   "source": [
    "The [endogenous parameters](#endo)"
   ]
  },
  {
   "cell_type": "markdown",
   "metadata": {},
   "source": [
    "### A recession"
   ]
  },
  {
   "cell_type": "markdown",
   "metadata": {
    "collapsed": true
   },
   "source": [
    "New productivity during recession, see table for index. 2010 = 100 = 1, so our baseline output."
   ]
  },
  {
   "cell_type": "code",
   "execution_count": null,
   "metadata": {
    "collapsed": true
   },
   "outputs": [],
   "source": []
  }
 ],
 "metadata": {
  "kernelspec": {
   "display_name": "Python 2",
   "language": "python",
   "name": "python2"
  },
  "language_info": {
   "codemirror_mode": {
    "name": "ipython",
    "version": 2
   },
   "file_extension": ".py",
   "mimetype": "text/x-python",
   "name": "python",
   "nbconvert_exporter": "python",
   "pygments_lexer": "ipython2",
   "version": "2.7.11"
  }
 },
 "nbformat": 4,
 "nbformat_minor": 0
}
